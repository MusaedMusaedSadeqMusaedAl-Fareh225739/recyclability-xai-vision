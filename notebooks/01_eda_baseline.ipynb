{
 "cells": [
  {
   "cell_type": "markdown",
   "id": "5bfe4177",
   "metadata": {},
   "source": [
    "# 01 – Exploratory Data Analysis (EDA) & Majority-Class Baseline\n",
    "\n",
    "This notebook answers three questions:\n",
    "\n",
    "1. **What does the raw image dataset look like?**  \n",
    "2. **How balanced are the two classes (recyclable / non-recyclable)?**  \n",
    "3. **What is the accuracy of a naïve majority-class model?**  \n",
    "\n",
    "The goal is to set a first benchmark before we train neural networks in later notebooks.\n"
   ]
  },
  {
   "cell_type": "code",
   "execution_count": null,
   "id": "ff42873d",
   "metadata": {},
   "outputs": [],
   "source": [
    "import os, cv2, numpy as np, pandas as pd\n",
    "import matplotlib.pyplot as plt, seaborn as sns\n",
    "from collections import Counter\n",
    "from pathlib import Path\n",
    "\n",
    "from src.data_loader import load_images\n"
   ]
  },
  {
   "cell_type": "markdown",
   "id": "2deffcc6",
   "metadata": {},
   "source": [
    "## 1  Dataset locations\n",
    "\n",
    "Replace the folder paths below with **your real directories**.  \n",
    "For this demo we keep a tiny subset under `data/sample_images/` so the notebook always runs.\n"
   ]
  },
  {
   "cell_type": "code",
   "execution_count": null,
   "id": "b33b3af7",
   "metadata": {},
   "outputs": [],
   "source": [
    "folder_paths = [\n",
    "    \"../data/sample_images/recyclable\",       # <- put real path\n",
    "    \"../data/sample_images/non_recyclable\"    # <- put real path\n",
    "]\n",
    "class_names  = [\"recyclable\", \"non-recyclable\"]\n",
    "\n",
    "X, y, ignored = load_images(folder_paths, class_names, target_size=(64, 64))\n",
    "print(\"Loaded:\", X.shape, \"| ignored files:\", ignored)\n"
   ]
  },
  {
   "cell_type": "markdown",
   "id": "faaa110a",
   "metadata": {},
   "source": [
    "## 2  Class distribution\n"
   ]
  },
  {
   "cell_type": "code",
   "execution_count": null,
   "id": "4d86f6a6",
   "metadata": {},
   "outputs": [],
   "source": [
    "cnt = Counter(y)\n",
    "plt.figure(figsize=(4,3))\n",
    "sns.barplot(x=list(cnt.keys()), y=list(cnt.values()), palette=\"Set2\")\n",
    "plt.title(\"Image count per class\"); plt.ylabel(\"count\"); plt.tight_layout()\n",
    "plt.show()\n"
   ]
  },
  {
   "cell_type": "markdown",
   "id": "ccd93f38",
   "metadata": {},
   "source": [
    "*Observation:*  \n",
    "If one class dominates, a majority predictor might already score high – a useful sanity check before deep-learning.\n"
   ]
  },
  {
   "cell_type": "markdown",
   "id": "3ee82055",
   "metadata": {},
   "source": [
    "## 3  Random sample of images\n"
   ]
  },
  {
   "cell_type": "code",
   "execution_count": null,
   "id": "e505ec89",
   "metadata": {},
   "outputs": [],
   "source": [
    "idx = np.random.choice(len(X), size=min(6, len(X)), replace=False)\n",
    "plt.figure(figsize=(10,4))\n",
    "for i, j in enumerate(idx, 1):\n",
    "    plt.subplot(1, len(idx), i)\n",
    "    plt.imshow(cv2.cvtColor(X[j], cv2.COLOR_BGR2RGB))\n",
    "    plt.title(y[j]); plt.axis(\"off\")\n",
    "plt.tight_layout(); plt.show()\n"
   ]
  },
  {
   "cell_type": "markdown",
   "id": "12d62a58",
   "metadata": {},
   "source": [
    "## 4  Basic pixel-level stats\n"
   ]
  },
  {
   "cell_type": "code",
   "execution_count": null,
   "id": "cf61aa3e",
   "metadata": {},
   "outputs": [],
   "source": [
    "flat_pixels = X.reshape(-1, 3) / 255.0\n",
    "plt.figure(figsize=(6,3))\n",
    "for ch, color in enumerate([\"r\",\"g\",\"b\"]):\n",
    "    sns.kdeplot(flat_pixels[:,ch], color=color, label=color.upper())\n",
    "plt.title(\"Pixel intensity distribution\"); plt.xlim(0,1); plt.tight_layout(); plt.legend()\n",
    "plt.show()\n"
   ]
  },
  {
   "cell_type": "markdown",
   "id": "492cea5d",
   "metadata": {},
   "source": [
    "## 5  Majority-class baseline\n"
   ]
  },
  {
   "cell_type": "code",
   "execution_count": null,
   "id": "f51c20c2",
   "metadata": {},
   "outputs": [],
   "source": [
    "majority_label = cnt.most_common(1)[0][0]\n",
    "baseline_acc   = np.mean(y == majority_label)\n",
    "print(f\"Majority-class baseline accuracy = {baseline_acc:.2%}\")\n"
   ]
  },
  {
   "cell_type": "markdown",
   "id": "2a51b4d4",
   "metadata": {},
   "source": [
    "### Take-aways\n",
    "* Any model we train must beat **{baseline_acc:.0%}** accuracy.  \n",
    "* Class imbalance (ratio recyclable : non-recyclable) ≈ {cnt['recyclable']} : {cnt['non-recyclable']}.  \n",
    "* Pixel histograms show a broad spectrum → colour likely informative.\n",
    "\n",
    "---\n",
    "\n",
    "Proceed to **02 – V1 MLP** to train a first neural baseline.\n"
   ]
  }
 ],
 "metadata": {
  "kernelspec": {
   "display_name": "base",
   "language": "python",
   "name": "python3"
  },
  "language_info": {
   "codemirror_mode": {
    "name": "ipython",
    "version": 3
   },
   "file_extension": ".py",
   "mimetype": "text/x-python",
   "name": "python",
   "nbconvert_exporter": "python",
   "pygments_lexer": "ipython3",
   "version": "3.11.5"
  }
 },
 "nbformat": 4,
 "nbformat_minor": 5
}
