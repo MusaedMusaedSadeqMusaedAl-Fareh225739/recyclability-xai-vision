{
 "cells": [
  {
   "cell_type": "markdown",
   "id": "2a0bd243",
   "metadata": {},
   "source": [
    "# 05 – V4 CNN on Augmented Dataset\n",
    "\n",
    "This iteration trains the same 2-convolution CNN as notebook 03,  \n",
    "but on a dataset expanded via **data augmentation** (rotation, shift, zoom, flip).  \n",
    "Goal : check whether more (synthetic) data boosts generalisation.\n"
   ]
  },
  {
   "cell_type": "code",
   "execution_count": null,
   "id": "4fa41127",
   "metadata": {},
   "outputs": [],
   "source": [
    "import numpy as np, matplotlib.pyplot as plt\n",
    "from pathlib import Path\n",
    "from sklearn.model_selection import train_test_split\n",
    "from sklearn.preprocessing import LabelEncoder\n",
    "from tensorflow.keras.utils import to_categorical\n",
    "\n",
    "from src.data_loader     import load_images\n",
    "from src.model_cnn       import build_cnn\n",
    "from src.compile_utils   import compile_model, early_stop\n",
    "from src.plotting        import plot_history\n",
    "from src.evaluation      import evaluate\n"
   ]
  },
  {
   "cell_type": "markdown",
   "id": "f79fb258",
   "metadata": {},
   "source": [
    "## 1  Load augmented images\n",
    "Replace the folder paths with the output dirs you generated using\n",
    "`src/data_augmentation.py` (e.g. **`AUG-REC2`** and **`AUG-NON`**).\n"
   ]
  },
  {
   "cell_type": "code",
   "execution_count": null,
   "id": "6cec08e0",
   "metadata": {},
   "outputs": [],
   "source": [
    "folder_paths = [\n",
    "    \"../data/AUG-REC2\",      # augmented recyclable\n",
    "    \"../data/AUG-NON\"        # augmented non-recyclable\n",
    "]\n",
    "class_names  = [\"recyclable\", \"non-recyclable\"]\n",
    "X, y, _ = load_images(folder_paths, class_names, target_size=(64, 64))\n",
    "print(\"Augmented dataset:\", X.shape)\n"
   ]
  },
  {
   "cell_type": "markdown",
   "id": "a46fa75c",
   "metadata": {},
   "source": [
    "### Train / validation / test split\n"
   ]
  },
  {
   "cell_type": "code",
   "execution_count": null,
   "id": "3726e708",
   "metadata": {},
   "outputs": [],
   "source": [
    "le   = LabelEncoder(); y_hot = to_categorical(le.fit_transform(y), 2)\n",
    "\n",
    "X_temp, X_test, y_temp, y_test = train_test_split(\n",
    "    X, y_hot, test_size=0.10, random_state=42, stratify=y_hot)\n",
    "X_train, X_val, y_train, y_val = train_test_split(\n",
    "    X_temp, y_temp, test_size=0.22, random_state=42, stratify=y_temp)\n",
    "\n",
    "X_train = X_train.astype(\"float32\")/255.0\n",
    "X_val   = X_val.astype(\"float32\")/255.0\n",
    "X_test  = X_test.astype(\"float32\")/255.0\n",
    "\n",
    "print(\"Train\", X_train.shape, \" Val\", X_val.shape, \" Test\", X_test.shape)\n"
   ]
  },
  {
   "cell_type": "markdown",
   "id": "771fd4db",
   "metadata": {},
   "source": [
    "## 2  Build & compile CNN (same architecture as notebook 03)\n"
   ]
  },
  {
   "cell_type": "code",
   "execution_count": null,
   "id": "b8c4d5fc",
   "metadata": {},
   "outputs": [],
   "source": [
    "cnn_aug = build_cnn(shape=(64,64,3), classes=2)\n",
    "cnn_aug = compile_model(cnn_aug, lr=1e-3, loss=\"categorical_crossentropy\")\n",
    "cnn_aug.summary()\n"
   ]
  },
  {
   "cell_type": "markdown",
   "id": "7e5ca5c1",
   "metadata": {},
   "source": [
    "## 3  Train\n"
   ]
  },
  {
   "cell_type": "code",
   "execution_count": null,
   "id": "a523f6c7",
   "metadata": {},
   "outputs": [],
   "source": [
    "H = cnn_aug.fit(\n",
    "    X_train, y_train,\n",
    "    validation_data=(X_val, y_val),\n",
    "    epochs=30,\n",
    "    batch_size=32,\n",
    "    callbacks=[early_stop(patience=4)],\n",
    "    verbose=2\n",
    ")\n"
   ]
  },
  {
   "cell_type": "markdown",
   "id": "852e06b7",
   "metadata": {},
   "source": [
    "\n",
    "## 4  Learning curves\n"
   ]
  },
  {
   "cell_type": "code",
   "execution_count": null,
   "id": "e7bf29fa",
   "metadata": {},
   "outputs": [],
   "source": [
    "plot_history(H)\n"
   ]
  },
  {
   "cell_type": "markdown",
   "id": "f9172863",
   "metadata": {},
   "source": [
    "## 5  Evaluation on test set\n"
   ]
  },
  {
   "cell_type": "code",
   "execution_count": null,
   "id": "294c4f2a",
   "metadata": {},
   "outputs": [],
   "source": [
    "evaluate(cnn_aug, X_test, y_test, labels=le.classes_)\n"
   ]
  },
  {
   "cell_type": "markdown",
   "id": "a9f2fc13",
   "metadata": {},
   "source": [
    "## 6  Discussion\n",
    "\n",
    "*Data augmentation increased dataset size from **N_raw → N_aug** and produced:**  \n",
    "* Accuracy = … (compare to raw-data CNN ≈ 0.86).  \n",
    "* Confusion matrix shows improved recall on the minority class?  \n",
    "\n",
    "Trade-off : longer training time, slight risk of over-fitting to synthetic artefacts.  \n",
    "In the next notebook we will deep-dive into **error analysis** to see where the model still fails.\n"
   ]
  }
 ],
 "metadata": {
  "kernelspec": {
   "display_name": "base",
   "language": "python",
   "name": "python3"
  },
  "language_info": {
   "name": "python",
   "version": "3.11.5"
  }
 },
 "nbformat": 4,
 "nbformat_minor": 5
}
