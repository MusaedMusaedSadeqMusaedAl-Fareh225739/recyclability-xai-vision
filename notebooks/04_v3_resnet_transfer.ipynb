{
 "cells": [
  {
   "cell_type": "markdown",
   "id": "3ba973bf",
   "metadata": {},
   "source": [
    "# 04 – V3 ResNet50 Transfer-Learning\n",
    "\n",
    "We freeze the ImageNet-trained ResNet50 convolutional backbone, add a small classification head, and train on our waste-image dataset.\n",
    "\n",
    "*Expect significant performance jump with minimal training time.*\n"
   ]
  },
  {
   "cell_type": "code",
   "execution_count": null,
   "id": "3d3349ad",
   "metadata": {},
   "outputs": [],
   "source": [
    "import numpy as np, matplotlib.pyplot as plt\n",
    "from pathlib import Path\n",
    "from sklearn.model_selection import train_test_split\n",
    "from sklearn.preprocessing import LabelEncoder\n",
    "from tensorflow.keras.utils import to_categorical\n",
    "\n",
    "from src.data_loader   import load_images\n",
    "from src.model_resnet  import build_resnet\n",
    "from src.compile_utils import compile_model, early_stop\n",
    "from src.plotting      import plot_history\n",
    "from src.evaluation    import evaluate\n"
   ]
  },
  {
   "cell_type": "markdown",
   "id": "b723040b",
   "metadata": {},
   "source": [
    "## 1  Load & preprocess images\n",
    "(Use the same 64 × 64 resize so every notebook is consistent.)\n"
   ]
  },
  {
   "cell_type": "code",
   "execution_count": null,
   "id": "7110243a",
   "metadata": {},
   "outputs": [],
   "source": [
    "folder_paths = [\n",
    "    \"../data/sample_images/recyclable\",        # TODO replace\n",
    "    \"../data/sample_images/non_recyclable\"     # TODO replace\n",
    "]\n",
    "class_names  = [\"recyclable\", \"non-recyclable\"]\n",
    "target_size  = (64, 64)\n",
    "\n",
    "X, y, _ = load_images(folder_paths, class_names, target_size)\n",
    "le = LabelEncoder(); y_hot = to_categorical(le.fit_transform(y), 2)\n",
    "\n",
    "X_temp, X_test, y_temp, y_test = train_test_split(\n",
    "    X, y_hot, test_size=0.10, random_state=42, stratify=y_hot)\n",
    "X_train, X_val, y_train, y_val = train_test_split(\n",
    "    X_temp, y_temp, test_size=0.22, random_state=42, stratify=y_temp)\n",
    "\n",
    "X_train = X_train.astype(\"float32\")/255.0\n",
    "X_val   = X_val.astype(\"float32\")/255.0\n",
    "X_test  = X_test.astype(\"float32\")/255.0\n",
    "\n",
    "print(\"Train:\", X_train.shape, \"| Val:\", X_val.shape, \"| Test:\", X_test.shape)\n",
    "\n",
    "\n"
   ]
  },
  {
   "cell_type": "markdown",
   "id": "ca9b50bd",
   "metadata": {},
   "source": [
    "## 2  Build the ResNet50 + pool + dense head\n",
    "\n",
    "* Freeze all convolutional layers.  \n",
    "* Use **sigmoid** with `binary_crossentropy` because we still output two units.  \n",
    "  (Alternative: softmax + categorical_crossentropy works as well.)*\n"
   ]
  },
  {
   "cell_type": "code",
   "execution_count": null,
   "id": "a6b545d6",
   "metadata": {},
   "outputs": [],
   "source": [
    "resnet = build_resnet(shape=(64,64,3), classes=2, trainable=False)\n",
    "resnet = compile_model(resnet, lr=1e-3, loss=\"binary_crossentropy\")\n",
    "resnet.summary()\n"
   ]
  },
  {
   "cell_type": "markdown",
   "id": "8874110c",
   "metadata": {},
   "source": [
    "## 3  Train (frozen backbone)\n"
   ]
  },
  {
   "cell_type": "code",
   "execution_count": null,
   "id": "a791e334",
   "metadata": {},
   "outputs": [],
   "source": [
    "H = resnet.fit(\n",
    "    X_train, y_train,\n",
    "    validation_data=(X_val, y_val),\n",
    "    epochs=15,\n",
    "    batch_size=32,\n",
    "    callbacks=[early_stop(patience=3)],\n",
    "    verbose=2\n",
    ")\n"
   ]
  },
  {
   "cell_type": "markdown",
   "id": "fc53ebb1",
   "metadata": {},
   "source": [
    "## 4  Learning curves\n"
   ]
  },
  {
   "cell_type": "code",
   "execution_count": null,
   "id": "45f512b1",
   "metadata": {},
   "outputs": [],
   "source": [
    "plot_history(H)\n"
   ]
  },
  {
   "cell_type": "markdown",
   "id": "5b2ba6de",
   "metadata": {},
   "source": [
    "## 5  Evaluate on test set\n"
   ]
  },
  {
   "cell_type": "code",
   "execution_count": null,
   "id": "b266ebfc",
   "metadata": {},
   "outputs": [],
   "source": [
    "cm = evaluate(resnet, X_test, y_test, labels=le.classes_)\n"
   ]
  },
  {
   "cell_type": "markdown",
   "id": "c4cc9032",
   "metadata": {},
   "source": [
    "## 6  (OPTIONAL) Grad-CAM heatmap for qualitative explainability\n",
    "Uncomment to visualise where ResNet focuses.\n"
   ]
  },
  {
   "cell_type": "code",
   "execution_count": null,
   "id": "db6f8ddc",
   "metadata": {},
   "outputs": [],
   "source": [
    "# from tensorflow.keras.preprocessing import image\n",
    "# from tensorflow.keras import backend as K\n",
    "# def grad_cam(input_img, model, cls, layer_name=\"conv5_block3_out\"):\n",
    "#     conv_layer = model.get_layer(layer_name)\n",
    "#     heatmap_model = Model([model.inputs], [conv_layer.output, model.output])\n",
    "#     with tf.GradientTape() as gtape:\n",
    "#         conv_output, predictions = heatmap_model(np.array([input_img]))\n",
    "#         loss = predictions[:, cls]\n",
    "#     grads = gtape.gradient(loss, conv_output)[0]\n",
    "#     heatmap = tf.reduce_mean(grads * conv_output[0], axis=-1)\n",
    "#     heatmap = np.maximum(heatmap, 0) / np.max(heatmap)\n",
    "#     return heatmap\n"
   ]
  },
  {
   "cell_type": "markdown",
   "id": "cb125512",
   "metadata": {},
   "source": [
    "## 7  Discussion\n",
    "\n",
    "* **Test accuracy** should exceed the custom CNN’s ~0.86 and land ~0.93–0.95.  \n",
    "* Freezing backbone → only ~15 s training on CPU.  \n",
    "* Next notebook (`05_v4_augmented_final.ipynb`) will combine data-augmentation with a lighter CNN to compare trade-offs.\n",
    "\n",
    "If further accuracy needed, unfreeze **last 20 ResNet layers** and fine-tune at `1e-5` learning-rate.\n"
   ]
  }
 ],
 "metadata": {
  "kernelspec": {
   "display_name": "base",
   "language": "python",
   "name": "python3"
  },
  "language_info": {
   "name": "python",
   "version": "3.11.5"
  }
 },
 "nbformat": 4,
 "nbformat_minor": 5
}
